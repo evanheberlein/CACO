{
 "cells": [
  {
   "cell_type": "code",
   "execution_count": 1,
   "metadata": {},
   "outputs": [],
   "source": [
    "import IRQIV\n",
    "import CSV, DataFrames"
   ]
  },
  {
   "cell_type": "code",
   "execution_count": 50,
   "metadata": {},
   "outputs": [
    {
     "data": {
      "text/html": [
       "<div><div style = \"float: left;\"><span>12×4 DataFrame</span></div><div style = \"clear: both;\"></div></div><div class = \"data-frame\" style = \"overflow-x: scroll;\"><table class = \"data-frame\" style = \"margin-bottom: 6px;\"><thead><tr class = \"header\"><th class = \"rowNumber\" style = \"font-weight: bold; text-align: right;\">Row</th><th style = \"text-align: left;\">Name</th><th style = \"text-align: left;\">Longitude</th><th style = \"text-align: left;\">Latitude</th><th style = \"text-align: left;\">Ellipsoidal height</th></tr><tr class = \"subheader headerLastRow\"><th class = \"rowNumber\" style = \"font-weight: bold; text-align: right;\"></th><th title = \"InlineStrings.String31\" style = \"text-align: left;\">String31</th><th title = \"Float64\" style = \"text-align: left;\">Float64</th><th title = \"Float64\" style = \"text-align: left;\">Float64</th><th title = \"Float64\" style = \"text-align: left;\">Float64</th></tr></thead><tbody><tr><td class = \"rowNumber\" style = \"font-weight: bold; text-align: right;\">1</td><td style = \"text-align: left;\">SC_stakes_top_01</td><td style = \"text-align: right;\">-70.0762</td><td style = \"text-align: right;\">41.9463</td><td style = \"text-align: right;\">-24.683</td></tr><tr><td class = \"rowNumber\" style = \"font-weight: bold; text-align: right;\">2</td><td style = \"text-align: left;\">SC_stakes_top_02</td><td style = \"text-align: right;\">-70.0762</td><td style = \"text-align: right;\">41.9463</td><td style = \"text-align: right;\">-24.733</td></tr><tr><td class = \"rowNumber\" style = \"font-weight: bold; text-align: right;\">3</td><td style = \"text-align: left;\">SC_stakes_top_03</td><td style = \"text-align: right;\">-70.0762</td><td style = \"text-align: right;\">41.9464</td><td style = \"text-align: right;\">-24.785</td></tr><tr><td class = \"rowNumber\" style = \"font-weight: bold; text-align: right;\">4</td><td style = \"text-align: left;\">SC_stakes_top_04</td><td style = \"text-align: right;\">-70.0761</td><td style = \"text-align: right;\">41.9464</td><td style = \"text-align: right;\">-24.885</td></tr><tr><td class = \"rowNumber\" style = \"font-weight: bold; text-align: right;\">5</td><td style = \"text-align: left;\">SC_stakes_top_06</td><td style = \"text-align: right;\">-70.0761</td><td style = \"text-align: right;\">41.9465</td><td style = \"text-align: right;\">-24.901</td></tr><tr><td class = \"rowNumber\" style = \"font-weight: bold; text-align: right;\">6</td><td style = \"text-align: left;\">SC_stakes_top_07</td><td style = \"text-align: right;\">-70.0761</td><td style = \"text-align: right;\">41.9465</td><td style = \"text-align: right;\">-25.06</td></tr><tr><td class = \"rowNumber\" style = \"font-weight: bold; text-align: right;\">7</td><td style = \"text-align: left;\">SC_stakes_top_08</td><td style = \"text-align: right;\">-70.0761</td><td style = \"text-align: right;\">41.9466</td><td style = \"text-align: right;\">-25.025</td></tr><tr><td class = \"rowNumber\" style = \"font-weight: bold; text-align: right;\">8</td><td style = \"text-align: left;\">SC_stakes_top_09</td><td style = \"text-align: right;\">-70.076</td><td style = \"text-align: right;\">41.9466</td><td style = \"text-align: right;\">-24.993</td></tr><tr><td class = \"rowNumber\" style = \"font-weight: bold; text-align: right;\">9</td><td style = \"text-align: left;\">SC_stakes_top_10</td><td style = \"text-align: right;\">-70.076</td><td style = \"text-align: right;\">41.9467</td><td style = \"text-align: right;\">-24.986</td></tr><tr><td class = \"rowNumber\" style = \"font-weight: bold; text-align: right;\">10</td><td style = \"text-align: left;\">SC_stakes_top_11</td><td style = \"text-align: right;\">-70.076</td><td style = \"text-align: right;\">41.9467</td><td style = \"text-align: right;\">-24.967</td></tr><tr><td class = \"rowNumber\" style = \"font-weight: bold; text-align: right;\">11</td><td style = \"text-align: left;\">SC_stakes_top_12</td><td style = \"text-align: right;\">-70.0761</td><td style = \"text-align: right;\">41.9468</td><td style = \"text-align: right;\">-24.892</td></tr><tr><td class = \"rowNumber\" style = \"font-weight: bold; text-align: right;\">12</td><td style = \"text-align: left;\">SC_stakes_top_13</td><td style = \"text-align: right;\">-70.0762</td><td style = \"text-align: right;\">41.9465</td><td style = \"text-align: right;\">-24.973</td></tr></tbody></table></div>"
      ],
      "text/latex": [
       "\\begin{tabular}{r|cccc}\n",
       "\t& Name & Longitude & Latitude & Ellipsoidal height\\\\\n",
       "\t\\hline\n",
       "\t& String31 & Float64 & Float64 & Float64\\\\\n",
       "\t\\hline\n",
       "\t1 & SC\\_stakes\\_top\\_01 & -70.0762 & 41.9463 & -24.683 \\\\\n",
       "\t2 & SC\\_stakes\\_top\\_02 & -70.0762 & 41.9463 & -24.733 \\\\\n",
       "\t3 & SC\\_stakes\\_top\\_03 & -70.0762 & 41.9464 & -24.785 \\\\\n",
       "\t4 & SC\\_stakes\\_top\\_04 & -70.0761 & 41.9464 & -24.885 \\\\\n",
       "\t5 & SC\\_stakes\\_top\\_06 & -70.0761 & 41.9465 & -24.901 \\\\\n",
       "\t6 & SC\\_stakes\\_top\\_07 & -70.0761 & 41.9465 & -25.06 \\\\\n",
       "\t7 & SC\\_stakes\\_top\\_08 & -70.0761 & 41.9466 & -25.025 \\\\\n",
       "\t8 & SC\\_stakes\\_top\\_09 & -70.076 & 41.9466 & -24.993 \\\\\n",
       "\t9 & SC\\_stakes\\_top\\_10 & -70.076 & 41.9467 & -24.986 \\\\\n",
       "\t10 & SC\\_stakes\\_top\\_11 & -70.076 & 41.9467 & -24.967 \\\\\n",
       "\t11 & SC\\_stakes\\_top\\_12 & -70.0761 & 41.9468 & -24.892 \\\\\n",
       "\t12 & SC\\_stakes\\_top\\_13 & -70.0762 & 41.9465 & -24.973 \\\\\n",
       "\\end{tabular}\n"
      ],
      "text/plain": [
       "\u001b[1m12×4 DataFrame\u001b[0m\n",
       "\u001b[1m Row \u001b[0m│\u001b[1m Name             \u001b[0m\u001b[1m Longitude \u001b[0m\u001b[1m Latitude \u001b[0m\u001b[1m Ellipsoidal height \u001b[0m\n",
       "     │\u001b[90m String31         \u001b[0m\u001b[90m Float64   \u001b[0m\u001b[90m Float64  \u001b[0m\u001b[90m Float64            \u001b[0m\n",
       "─────┼───────────────────────────────────────────────────────────\n",
       "   1 │ SC_stakes_top_01   -70.0762   41.9463             -24.683\n",
       "   2 │ SC_stakes_top_02   -70.0762   41.9463             -24.733\n",
       "   3 │ SC_stakes_top_03   -70.0762   41.9464             -24.785\n",
       "   4 │ SC_stakes_top_04   -70.0761   41.9464             -24.885\n",
       "   5 │ SC_stakes_top_06   -70.0761   41.9465             -24.901\n",
       "   6 │ SC_stakes_top_07   -70.0761   41.9465             -25.06\n",
       "   7 │ SC_stakes_top_08   -70.0761   41.9466             -25.025\n",
       "   8 │ SC_stakes_top_09   -70.076    41.9466             -24.993\n",
       "   9 │ SC_stakes_top_10   -70.076    41.9467             -24.986\n",
       "  10 │ SC_stakes_top_11   -70.076    41.9467             -24.967\n",
       "  11 │ SC_stakes_top_12   -70.0761   41.9468             -24.892\n",
       "  12 │ SC_stakes_top_13   -70.0762   41.9465             -24.973"
      ]
     },
     "metadata": {},
     "output_type": "display_data"
    }
   ],
   "source": [
    "# Import GCP data\n",
    "DH_survey = CSV.read(raw\"/Users/evanheberlein/Library/CloudStorage/Box-Box/Cornell/CACO/2023/CornellDuckHarbor2023.csv\", DataFrames.DataFrame)\n",
    "GCPs_8_1_SC = DH_survey[40:64,:]\n",
    "SC_8_1_bots = GCPs_8_1_SC[1:12,[1,7,8,9]] # Name, Lat, long, elev\n",
    "SC_8_1_tops = GCPs_8_1_SC[14:25,[1,7,8,9]] # \""
   ]
  },
  {
   "cell_type": "code",
   "execution_count": null,
   "metadata": {},
   "outputs": [],
   "source": []
  },
  {
   "cell_type": "code",
   "execution_count": 35,
   "metadata": {},
   "outputs": [
    {
     "data": {
      "text/plain": [
       "(25, 28)"
      ]
     },
     "metadata": {},
     "output_type": "display_data"
    }
   ],
   "source": [
    "size(GCPs_8_1_SC)"
   ]
  },
  {
   "cell_type": "code",
   "execution_count": 31,
   "metadata": {},
   "outputs": [
    {
     "data": {
      "text/plain": [
       "25-element Vector{Float64}:\n",
       " -70.07622126\n",
       " -70.07619694\n",
       " -70.07615815\n",
       " -70.07612854\n",
       " -70.07609248\n",
       " -70.07607026\n",
       " -70.07606912\n",
       " -70.07604329\n",
       " -70.07601133\n",
       " -70.07603127\n",
       "   ⋮\n",
       " -70.07612909\n",
       " -70.07609122\n",
       " -70.07607147\n",
       " -70.07606642\n",
       " -70.07604126\n",
       " -70.07600981\n",
       " -70.07602869\n",
       " -70.07608179\n",
       " -70.07622395"
      ]
     },
     "metadata": {},
     "output_type": "display_data"
    }
   ],
   "source": [
    "GCPs_8_1_SC.\"Longitude\""
   ]
  },
  {
   "cell_type": "code",
   "execution_count": 23,
   "metadata": {},
   "outputs": [
    {
     "data": {
      "text/plain": [
       "25-element Vector{InlineStrings.String31}:\n",
       " \"SC_stakes_bot_01\"\n",
       " \"SC_stakes_bot_02\"\n",
       " \"SC_stakes_bot_03\"\n",
       " \"SC_stakes_bot_04\"\n",
       " \"SC_stakes_bot_06\"\n",
       " \"SC_stakes_bot_07\"\n",
       " \"SC_stakes_bot_08\"\n",
       " \"SC_stakes_bot_09\"\n",
       " \"SC_stakes_bot_10\"\n",
       " \"SC_stakes_bot_11\"\n",
       " ⋮\n",
       " \"SC_stakes_top_04\"\n",
       " \"SC_stakes_top_06\"\n",
       " \"SC_stakes_top_07\"\n",
       " \"SC_stakes_top_08\"\n",
       " \"SC_stakes_top_09\"\n",
       " \"SC_stakes_top_10\"\n",
       " \"SC_stakes_top_11\"\n",
       " \"SC_stakes_top_12\"\n",
       " \"SC_stakes_top_13\""
      ]
     },
     "metadata": {},
     "output_type": "display_data"
    }
   ],
   "source": [
    "GCPs_8_1_SC[:,\"Name\"]"
   ]
  },
  {
   "cell_type": "code",
   "execution_count": null,
   "metadata": {},
   "outputs": [],
   "source": []
  }
 ],
 "metadata": {
  "kernelspec": {
   "display_name": "Julia 1.9.3",
   "language": "julia",
   "name": "julia-1.9"
  },
  "language_info": {
   "file_extension": ".jl",
   "mimetype": "application/julia",
   "name": "julia",
   "version": "1.9.3"
  },
  "orig_nbformat": 4
 },
 "nbformat": 4,
 "nbformat_minor": 2
}
